{
 "metadata": {
  "language_info": {
   "codemirror_mode": {
    "name": "ipython",
    "version": 3
   },
   "file_extension": ".py",
   "mimetype": "text/x-python",
   "name": "python",
   "nbconvert_exporter": "python",
   "pygments_lexer": "ipython3",
   "version": "3.9.5"
  },
  "orig_nbformat": 2,
  "kernelspec": {
   "name": "python395jvsc74a57bd085322dc11dc870a2b7cb7a80ff056721520541750d6deba2ae6c8f28882ca921",
   "display_name": "Python 3.9.5 64-bit ('Basic': venv)"
  },
  "metadata": {
   "interpreter": {
    "hash": "85322dc11dc870a2b7cb7a80ff056721520541750d6deba2ae6c8f28882ca921"
   }
  }
 },
 "nbformat": 4,
 "nbformat_minor": 2,
 "cells": [
  {
   "cell_type": "code",
   "execution_count": 136,
   "metadata": {
    "tags": []
   },
   "outputs": [
    {
     "output_type": "stream",
     "name": "stdout",
     "text": [
      "\n<b>Sheldon<b>: <i>[Knock..knock..knock]<i> Amy? <i>[Knock..knock..knock]<i> Amy? <i>[Knock..knock..knock]<i> Amy?\n<b>Amy<b>: What?\n<b>Sheldon<b>: Never knocked on my own door before. That was a wild ride.\n<b>Amy<b>: You don’t have to come in here and cheer me up.\n<b>Sheldon<b>: Thank-you. Would you go and tell everyone else that because they think otherwise.\n<b>Amy<b>: I’ll tell you what they think. They think our relationship is a joke.\n<b>Sheldon<b>: Well, I don’t think our relationship is a joke. I think a horse goes into a bar. Bartender says, “Why the long face?” That’s a joke. It’s a good one, too, because a horse has a long face.\n<b>Amy<b>: Sheldon. Are we ever going to have an intimate relationship?\n<b>Sheldon<b>: Oh my. That’s an uncomfortable topic. Amy, before I met you I never had any interest in being intimate with anyone.\n<b>Amy<b>: And now?\n<b>Sheldon<b>: And now what?\n<b>Amy<b>: Do you have any interest now?\n<b>Sheldon<b>: I’ve not ruled it out.\n<b>Amy<b>: Wow, talk dirty to me.\n<b>Sheldon<b>: I know it doesn’t seem like it to you, but for me what we have is extremely intimate.\n<b>Amy<b>: I guess I know that. It’s just a part of me wants more.\n<b>Sheldon<b>: More? Just look at us. It’s only been three years. Here we are in bed together. <i>[Sitting on it.]<i>\n<b>Amy<b>: <i>[Amy laughs slightly.]<i> Come on. Let’s go back out there.\n<b>Sheldon<b>: No, hold on. My Elven magic user and your half-Ork warrior did have a love spell cast on them. We wouldn’t really be playing the game right if we didn’t see that through.\n<b>Amy<b>: OK.\n<b>Sheldon<b>: I believe that we just killed the dragon and while the others pillage the corpse I lead you to a secluded area where I attempt to remove your leather armor. <i>[Rolls dice]<i> It comes off.\n<b>Amy<b>: Oh?\n<b>Sheldon<b>: What do you do?\n<b>Amy<b>: I…kiss you on the lips?\n<b>Sheldon<b>: I kiss you back on the… <i>[Rolls dice]<i> …lips as well. Your turn.\n<b>Amy<b>: I remove your armor. What do you do?\n<b>Sheldon<b>: I erotically caress your… <i>[Rolls dice]<i> …nose.\n<b>Amy<b>: Keep rolling!\n===<i>The Bon Voyage Reaction<i> [6.24]===<b>Leonard<b>: Anyway, Stephen Hawking’s team is looking into that and I’ve been invited to join them.\n<b>Penny<b>: Wow Hawking, good for you!\n<b>Leonard<b>: Well it is. Just...you know I’d be gone for a while.\n<b>Penny<b>: For how long.\n<b>Leonard<b>: Three - four months.\n<b>Penny<b>: Whoa. When would you leave?\n<b>Leonard<b>: A couple weeks.\n<b>Penny<b>: Wow. OK. Well, I’ll just come visit you.\n<b>Leonard<b>: That’s the thing. You can’t. I’ll be on a ship in the North Sea.\n<b>Penny<b>: On a ship? Aren’t they afraid Hawking will just roll overboard?\n<b>Leonard<b>: He’s not going to be there. He’s just sending a team to research his theory.\n<b>Penny<b>: Oh sure. Like when you send me to kill spiders in your bathtub. Well, OK. Four months.\n<b>Leonard<b>: Yeah, I’m a little worried because things between us have been so great. And I’d hate to do anything to screw that up.\n<b>Penny<b>: Oh, sweetie. If you’re going to do anything to screw things up, it’s going to be while you’re here, not while you’re away.\n\n"
     ]
    }
   ],
   "source": [
    "# This is a scraper that will get the html text from the editing page of wikiquote, and then convert it to a file that fortune can read\n",
    "# The idea belongs to Lucas Z and was read from his blog Blog and his repo https://github.com/lukas2/wikiquote_to_fortune in which the same thing is done with ruby\n",
    "# but when I installed it, it did not work, and i could not get it working as i dont know a lot of ruby, and even with a lot of failed attempts, i\n",
    "# could not make it work with ruby installed on my linux machine, and so i decided to make a python alternative as i really wanted the fortune quotes to work, and thought this was a cool idea. \n",
    "\n",
    "\n",
    "word = 'The_Big_Bang_Theory_(season_6)'\n",
    "url = 'https://en.wikiquote.org/w/index.php?action=edit&title=' + word\n",
    "\n",
    "import requests\n",
    "import re\n",
    "from bs4 import BeautifulSoup\n",
    "\n",
    "\n",
    "page = requests.get(url)\n",
    "soup = BeautifulSoup(page.content, 'html.parser')\n",
    "quotes = soup.text\n",
    "quotes = re.sub(\"===([a-z]|[A-Z]|\\s|[0-9]|[\\\\'-_@!#$<>%&\\\\(\\\\)\\\\[\\\\]])*===\", \"<hr width=\\\"50%\\\"/>\\n\", quotes)\n",
    "quotes = re.sub(\"\\\\[\\\\[w:([a-z]|[A-Z]|\\s|[0-9]|[\\\\'-_@!#$%&\\\\(\\\\)\\\\[\\\\]])*\\\\|\", \"\", quotes)\n",
    "quotes = re.sub(\"\\\\]\\\\]\", \"\", quotes)\n",
    "quotes = re.sub(\"\\\\:\\'\\'\\'\", \"<b>\", quotes)\n",
    "quotes = re.sub(\"=\\s\", \"=\", quotes)\n",
    "quotes = re.sub(\"\\s=\", \"=\", quotes)\n",
    "quotes = re.sub(\"\\n\\n\", \"\\n\", quotes)\n",
    "quotes = re.sub(\"\\n\\n\", \"\\n\", quotes)\n",
    "quotes = re.sub(\"<\\s\", \"<\", quotes)\n",
    "quotes = re.sub(\"\\s>\", \">\", quotes)\n",
    "quotes = re.sub(\"\\'\\'\\'\", \"<b>\", quotes)\n",
    "quotes = re.sub(\"\\\\:\\'\\'\", \"<i>\", quotes)\n",
    "quotes = re.sub(\"\\'\\'\", \"<i>\", quotes)\n",
    "extracted = re.sub(\"\\\\<hr width=\\\"50\\\\%\\\"\\\\/>\\\\n\", \"%%%%\\n\\n\", quotes)\n",
    "\n",
    "extracted = re.split(\"%%%%\\n\", extracted)\n",
    "extracted.remove(extracted[-1])\n",
    "extracted.remove(extracted[0])\n",
    "print(extracted[-1])\n",
    "\n",
    "# Making the text file\n",
    "with open('extract.txt', 'w') as f:\n",
    "    f.writelines(extracted)\n",
    "\n",
    "quotes = re.sub(\"\\\\<hr width=\\\"50\\\\%\\\"\\\\/>\\\\n\", f\"\\n - {word.replace('_', ' ')}\\n%%%%\\n%\\n\", quotes)\n",
    "quotes = re.sub(\"<b>\", \"\", quotes)\n",
    "quotes = re.sub(\"<i>\", \"\", quotes)\n",
    "quotes = re.split(\"%%%%\\n\", quotes)\n",
    "quotes.remove(quotes[-1])\n",
    "quotes.remove(quotes[0])\n",
    "quotes[0] = quotes[0].replace('%\\n', '')\n",
    "\n",
    "# Making the fortune file\n",
    "with open(word, 'w') as f:\n",
    "    f.writelines(quotes)\n"
   ]
  },
  {
   "cell_type": "code",
   "execution_count": 18,
   "metadata": {},
   "outputs": [],
   "source": [
    "a = \"adf\""
   ]
  },
  {
   "cell_type": "code",
   "execution_count": 19,
   "metadata": {},
   "outputs": [
    {
     "output_type": "execute_result",
     "data": {
      "text/plain": [
       "''"
      ]
     },
     "metadata": {},
     "execution_count": 19
    }
   ],
   "source": [
    "a.replace('a', 'b')"
   ]
  },
  {
   "cell_type": "code",
   "execution_count": 21,
   "metadata": {},
   "outputs": [
    {
     "output_type": "stream",
     "name": "stdout",
     "text": [
      "The9rain9in9Spain\n"
     ]
    }
   ],
   "source": [
    "\n",
    "txt = \"The rain in Spain\"\n",
    "x = re.sub(\"\\s\", \"9\", txt)\n",
    "print(x)"
   ]
  },
  {
   "cell_type": "code",
   "execution_count": 38,
   "metadata": {},
   "outputs": [
    {
     "output_type": "stream",
     "name": "stdout",
     "text": [
      "['ai', 'ai']\n"
     ]
    }
   ],
   "source": [
    "\n",
    "txt = \"The rain in Spain\"\n",
    "x = re.findall(\"ai\", txt)\n",
    "print(x)"
   ]
  },
  {
   "cell_type": "code",
   "execution_count": 39,
   "metadata": {},
   "outputs": [
    {
     "output_type": "stream",
     "name": "stdout",
     "text": [
      "The first white-space character is located in position: 3\n"
     ]
    }
   ],
   "source": [
    "import re\n",
    "\n",
    "txt = \"The rain in Spain\"\n",
    "x = re.search(\"\\s\", txt)\n",
    "\n",
    "print(\"The first white-space character is located in position:\", x.start())"
   ]
  },
  {
   "cell_type": "code",
   "execution_count": 44,
   "metadata": {},
   "outputs": [
    {
     "output_type": "stream",
     "name": "stdout",
     "text": [
      "['The', 'rain', 'in', 'Spain']\n"
     ]
    }
   ],
   "source": [
    "txt = \"The rain in Spain\"\n",
    "x = re.split(\"\\s\", txt)\n",
    "print(x)"
   ]
  },
  {
   "cell_type": "code",
   "execution_count": 193,
   "metadata": {},
   "outputs": [
    {
     "output_type": "stream",
     "name": "stdout",
     "text": [
      "%%%%\n\n\n"
     ]
    }
   ],
   "source": [
    "\n",
    "txt = \"<hr width=\\\"50%\\\"/>\\n\"\n",
    "x = re.sub(\"\\<hr width=[\\\"\\s][0-9][0-9]\\%[\\\"\\s]\\/>\\\\n\", \"%%%%\\n\\n\", txt)\n",
    "x = re.sub(\"\\\\<hr width=[0-9][0-9]%\\\\/>\\\\n\", \"%%%%\\n\\n\", x)\n",
    "\n",
    "print(x)"
   ]
  },
  {
   "cell_type": "code",
   "execution_count": 172,
   "metadata": {},
   "outputs": [
    {
     "output_type": "error",
     "ename": "TypeError",
     "evalue": "replace expected at least 2 arguments, got 1",
     "traceback": [
      "\u001b[0;31m---------------------------------------------------------------------------\u001b[0m",
      "\u001b[0;31mTypeError\u001b[0m                                 Traceback (most recent call last)",
      "\u001b[0;32m<ipython-input-172-482701200608>\u001b[0m in \u001b[0;36m<module>\u001b[0;34m\u001b[0m\n\u001b[0;32m----> 1\u001b[0;31m \u001b[0mword\u001b[0m\u001b[0;34m.\u001b[0m\u001b[0mreplace\u001b[0m\u001b[0;34m(\u001b[0m\u001b[0;34m'_'\u001b[0m\u001b[0;34m)\u001b[0m\u001b[0;34m\u001b[0m\u001b[0;34m\u001b[0m\u001b[0m\n\u001b[0m",
      "\u001b[0;31mTypeError\u001b[0m: replace expected at least 2 arguments, got 1"
     ]
    }
   ],
   "source": [
    "word.replace('_')"
   ]
  },
  {
   "cell_type": "code",
   "execution_count": 126,
   "metadata": {},
   "outputs": [
    {
     "output_type": "execute_result",
     "data": {
      "text/plain": [
       "True"
      ]
     },
     "metadata": {},
     "execution_count": 126
    }
   ],
   "source": [
    "type('a') == str"
   ]
  },
  {
   "cell_type": "code",
   "execution_count": 132,
   "metadata": {},
   "outputs": [
    {
     "output_type": "stream",
     "name": "stdout",
     "text": [
      "Url is valid\n"
     ]
    }
   ],
   "source": [
    "import validators\n",
    "valid=validators.url('https://en.wikiquote.org/w/index.php?action=edit&title=124351234')\n",
    "if valid==True:\n",
    "    print(\"Url is valid\")\n",
    "else:\n",
    "    print(\"Invalid url\")"
   ]
  },
  {
   "cell_type": "code",
   "execution_count": 133,
   "metadata": {},
   "outputs": [
    {
     "output_type": "stream",
     "name": "stdout",
     "text": [
      "Web site exists\n"
     ]
    }
   ],
   "source": [
    "import requests\n",
    "request = requests.get('https://en.wikiquote.org/w/index.php?action=edit&title=234526243523462')\n",
    "if request.status_code == 200:\n",
    "    print('Web site exists')\n",
    "else:\n",
    "    print('Web site does not exist') "
   ]
  },
  {
   "cell_type": "code",
   "execution_count": null,
   "metadata": {},
   "outputs": [],
   "source": []
  }
 ]
}